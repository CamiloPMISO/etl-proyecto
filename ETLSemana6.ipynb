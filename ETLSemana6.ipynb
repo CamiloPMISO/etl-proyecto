{
 "cells": [
  {
   "cell_type": "markdown",
   "id": "d11538e6",
   "metadata": {},
   "source": [
    "### ETL para TipoVuelo y HechoHistoriaCambios\n",
    "_Roberto Carreño_"
   ]
  },
  {
   "cell_type": "code",
   "execution_count": 1,
   "id": "55de9e8e",
   "metadata": {},
   "outputs": [],
   "source": [
    "db_user = 'Estudiante_11'\n",
    "db_psswd = 'RASKV6238W'\n",
    "source_db_connection_string = 'jdbc:mysql://157.253.236.116:8080/ProyectoTransaccional'\n",
    "\n",
    "dest_db_connection_string = 'jdbc:mysql://157.253.236.116:8080/Estudiante_11'\n",
    "\n",
    "# Driver de conexion\n",
    "path_jar_driver = 'C:\\Program Files (x86)\\MySQL\\Connector J 8.0\\mysql-connector-java-8.0.28.jar'"
   ]
  },
  {
   "cell_type": "code",
   "execution_count": 2,
   "id": "6c7eefc2",
   "metadata": {},
   "outputs": [
    {
     "name": "stderr",
     "output_type": "stream",
     "text": [
      "C:\\Users\\estudiante\\anaconda3\\envs\\Tutoriales\\lib\\site-packages\\tqdm\\auto.py:22: TqdmWarning: IProgress not found. Please update jupyter and ipywidgets. See https://ipywidgets.readthedocs.io/en/stable/user_install.html\n",
      "  from .autonotebook import tqdm as notebook_tqdm\n"
     ]
    }
   ],
   "source": [
    "from pyspark.sql import SparkSession\n",
    "from pyspark.sql import functions\n",
    "from pyspark.sql.types import StructType\n",
    "from pyspark import SparkContext, SparkConf, SQLContext\n",
    "from pyspark.sql.types import FloatType, StringType, IntegerType, DateType\n",
    "from pyspark.sql.functions import udf, col, lit, length, isnan, when, count, year, date_format, to_date, unix_timestamp, from_unixtime\n",
    "import pyspark.sql.functions as f\n",
    "import os \n",
    "from datetime import datetime\n",
    "from pyspark.sql import types as t\n",
    "from pandas_profiling import ProfileReport\n",
    "#import matplotlib.pyplot as plt\n",
    "import numpy as np"
   ]
  },
  {
   "cell_type": "code",
   "execution_count": 3,
   "id": "36446ec1",
   "metadata": {},
   "outputs": [
    {
     "name": "stderr",
     "output_type": "stream",
     "text": [
      "C:\\Users\\estudiante\\anaconda3\\envs\\Tutoriales\\lib\\site-packages\\pyspark\\sql\\context.py:79: FutureWarning: Deprecated in 3.0.0. Use SparkSession.builder.getOrCreate() instead.\n",
      "  FutureWarning\n"
     ]
    }
   ],
   "source": [
    "#Configuración de la sesión\n",
    "conf=SparkConf() \\\n",
    "    .set('spark.driver.extraClassPath', path_jar_driver)\n",
    "\n",
    "spark_context = SparkContext(conf=conf)\n",
    "sql_context = SQLContext(spark_context)\n",
    "spark = sql_context.sparkSession"
   ]
  },
  {
   "cell_type": "code",
   "execution_count": 4,
   "id": "38ef9d46",
   "metadata": {},
   "outputs": [],
   "source": [
    "def obtener_dataframe_de_bd(db_connection_string, sql, db_user, db_psswd):\n",
    "    df_bd = spark.read.format('jdbc')\\\n",
    "        .option('url', db_connection_string) \\\n",
    "        .option('dbtable', sql) \\\n",
    "        .option('user', db_user) \\\n",
    "        .option('password', db_psswd) \\\n",
    "        .option('driver', 'com.mysql.cj.jdbc.Driver') \\\n",
    "        .load()\n",
    "    return df_bd\n",
    "\n",
    "def guardar_db(db_connection_string, df, tabla, db_user, db_psswd):\n",
    "    df.select('*').write.format('jdbc') \\\n",
    "      .mode('append') \\\n",
    "      .option('url', db_connection_string) \\\n",
    "      .option('dbtable', tabla) \\\n",
    "      .option('user', db_user) \\\n",
    "      .option('password', db_psswd) \\\n",
    "      .option('driver', 'com.mysql.cj.jdbc.Driver') \\\n",
    "      .save()"
   ]
  },
  {
   "cell_type": "markdown",
   "id": "e6c83063",
   "metadata": {},
   "source": [
    "## Dimensión TipoVuelo"
   ]
  },
  {
   "cell_type": "markdown",
   "id": "0eb5e242",
   "metadata": {},
   "source": [
    "#### Extracción\n",
    "Para obtener los tipos de vuelos existentes, extraemos la información de la tabla **vuelos** haciendo un _distinct_ en la consulta sobre la columna **_tipo_vuelo_**"
   ]
  },
  {
   "cell_type": "code",
   "execution_count": 5,
   "id": "e6d33f88",
   "metadata": {},
   "outputs": [
    {
     "name": "stdout",
     "output_type": "stream",
     "text": [
      "+----------+\n",
      "|tipo_vuelo|\n",
      "+----------+\n",
      "|         R|\n",
      "|         C|\n",
      "|         T|\n",
      "|         A|\n",
      "+----------+\n",
      "\n"
     ]
    }
   ],
   "source": [
    "sql_tipovuelos = '''(SELECT DISTINCT tipo_vuelo FROM ProyectoTransaccional.vuelos) AS Temp_tipovuelos'''\n",
    "tipovuelos = obtener_dataframe_de_bd(source_db_connection_string, sql_tipovuelos, db_user, db_psswd)\n",
    "tipovuelos.show()"
   ]
  },
  {
   "cell_type": "markdown",
   "id": "1f6e7e38",
   "metadata": {},
   "source": [
    "#### Transfomación\n",
    "Una vez obtenida la información, procedemos a generar el id autoincremental de DWH y hacemos la conversión de los tipos a los nombres según indicó el negocio en las aclaraciones para esta tabla de la siguiente manera: **R**= regular, **T**= taxi, **C**= chárter, **A**= adicionales"
   ]
  },
  {
   "cell_type": "code",
   "execution_count": 6,
   "id": "d48c55c2",
   "metadata": {
    "scrolled": true
   },
   "outputs": [
    {
     "name": "stdout",
     "output_type": "stream",
     "text": [
      "+----------+---------------+-----------+\n",
      "|tipo_vuelo|idTipoVuelo_DWH| NombreTipo|\n",
      "+----------+---------------+-----------+\n",
      "|         R|              1|    Regular|\n",
      "|         C|              2|    Charter|\n",
      "|         T|              3|       Taxi|\n",
      "|         A|              4|Adicionales|\n",
      "+----------+---------------+-----------+\n",
      "\n"
     ]
    }
   ],
   "source": [
    "tipovuelos = tipovuelos.withColumn('idTipoVuelo_DWH', f.monotonically_increasing_id() + 1)\n",
    "tipovuelos = tipovuelos.withColumn(\"NombreTipo\", when(col(\"tipo_vuelo\") == 'C', lit(\"Charter\")).otherwise(when(col(\"tipo_vuelo\") == 'R', lit(\"Regular\")).otherwise(when(col(\"tipo_vuelo\") == 'T', lit(\"Taxi\")).otherwise(when(col(\"tipo_vuelo\") == 'A', lit(\"Adicionales\")).otherwise(tipovuelos.tipo_vuelo)))))\n",
    "tipovuelos.show()"
   ]
  },
  {
   "cell_type": "markdown",
   "id": "2573440d",
   "metadata": {},
   "source": [
    "Ahora, dado que el modelo propuesto tiene las culumnas _idTipoVuelo_DWH_ y _NombreTipo_ para la dimensión **TipoVuelo**, lo siguiente a realizar será eliminar el campo tipo_vuelo del Data Frame y con ello obtenemos lo solicitado:"
   ]
  },
  {
   "cell_type": "code",
   "execution_count": 7,
   "id": "9ea614f0",
   "metadata": {},
   "outputs": [
    {
     "name": "stdout",
     "output_type": "stream",
     "text": [
      "+---------------+-----------+\n",
      "|idTipoVuelo_DWH| NombreTipo|\n",
      "+---------------+-----------+\n",
      "|              1|    Regular|\n",
      "|              2|    Charter|\n",
      "|              3|       Taxi|\n",
      "|              4|Adicionales|\n",
      "+---------------+-----------+\n",
      "\n"
     ]
    }
   ],
   "source": [
    "tipovuelos = tipovuelos.drop('tipo_vuelo')\n",
    "tipovuelos.show()"
   ]
  },
  {
   "cell_type": "markdown",
   "id": "59cc6960",
   "metadata": {},
   "source": [
    "#### Cargue\n",
    "Por ultimo, procedemos a cargar la dimensión."
   ]
  },
  {
   "cell_type": "code",
   "execution_count": 8,
   "id": "a9a96450",
   "metadata": {},
   "outputs": [],
   "source": [
    "guardar_db(dest_db_connection_string, tipovuelos,'Estudiante_11.TipoVuelo', db_user, db_psswd)"
   ]
  },
  {
   "cell_type": "markdown",
   "id": "719156fd",
   "metadata": {},
   "source": [
    "## HechoHistoriaCambios"
   ]
  },
  {
   "cell_type": "markdown",
   "id": "1939ee0a",
   "metadata": {},
   "source": [
    "Como se aclara en el enunciado, se procede a efectuar el ETL para registrar la historia de cambios a aeropuertos por medio de la tabla HistoriaCambios. Esto se hará por medio de los siguientes pasos:\n",
    "\n",
    "### Crear y cargar la Dimensión HistoriaCambios\n",
    "**Extracción**"
   ]
  },
  {
   "cell_type": "code",
   "execution_count": 9,
   "id": "f63d0fa4",
   "metadata": {},
   "outputs": [],
   "source": [
    "sql_aeropuertos = '''(SELECT * FROM Estudiante_11.Aeropuerto) AS Temp_productos'''\n",
    "aeropuertos = obtener_dataframe_de_bd(source_db_connection_string, sql_aeropuertos, db_user, db_psswd)"
   ]
  },
  {
   "cell_type": "markdown",
   "id": "2f22ebe1",
   "metadata": {},
   "source": [
    "**Transformación**"
   ]
  },
  {
   "cell_type": "code",
   "execution_count": 10,
   "id": "620539d9",
   "metadata": {},
   "outputs": [
    {
     "name": "stdout",
     "output_type": "stream",
     "text": [
      "+-----+--------------+---------+----------------+----------+-----------+----------+------+\n",
      "|sigla|        nombre|elevacion|idAeropuerto_DWH|idMini_DWH|fechaInicio|  fechaFin|cambio|\n",
      "+-----+--------------+---------+----------------+----------+-----------+----------+------+\n",
      "|  ypp|german alberto|    735.0|               1|         1| 2004-01-01|2199-12-31|     1|\n",
      "|  7hs| castillo - ca|     20.0|               2|         1| 2004-01-01|2199-12-31|     1|\n",
      "|  9ax|    santa cruz|    659.0|               3|         1| 2004-01-01|2199-12-31|     1|\n",
      "|  a03|        fortul|    730.0|               4|         1| 2004-01-01|2199-12-31|     1|\n",
      "|  aci| el monasterio|    948.0|               5|         1| 2004-01-01|2199-12-31|     1|\n",
      "+-----+--------------+---------+----------------+----------+-----------+----------+------+\n",
      "\n"
     ]
    }
   ],
   "source": [
    "aeropuertos = aeropuertos.withColumn('idMini_DWH',lit(1))\n",
    "aeropuertos = aeropuertos.withColumn('fechaInicio',lit('2004-01-01'))\n",
    "aeropuertos = aeropuertos.withColumn('fechaFin',lit('2199-12-31'))\n",
    "aeropuertos = aeropuertos.withColumn('cambio', lit(1))\n",
    "aeropuertos.show()"
   ]
  },
  {
   "cell_type": "markdown",
   "id": "b42441eb",
   "metadata": {},
   "source": [
    "Eliminamos duplicados:"
   ]
  },
  {
   "cell_type": "code",
   "execution_count": 11,
   "id": "bdbcd412",
   "metadata": {},
   "outputs": [],
   "source": [
    "aeropuertos = aeropuertos.drop_duplicates()"
   ]
  },
  {
   "cell_type": "markdown",
   "id": "0ac61f5f",
   "metadata": {},
   "source": [
    "Postoriormente, eliminamos las columnas no requeridas en la dimensión:"
   ]
  },
  {
   "cell_type": "code",
   "execution_count": 12,
   "id": "7f72cb2d",
   "metadata": {},
   "outputs": [
    {
     "name": "stdout",
     "output_type": "stream",
     "text": [
      "+----------------+----------+-----------+----------+------+\n",
      "|idAeropuerto_DWH|idMini_DWH|fechaInicio|  fechaFin|cambio|\n",
      "+----------------+----------+-----------+----------+------+\n",
      "|               2|         1| 2004-01-01|2199-12-31|     1|\n",
      "|               3|         1| 2004-01-01|2199-12-31|     1|\n",
      "|               1|         1| 2004-01-01|2199-12-31|     1|\n",
      "|               4|         1| 2004-01-01|2199-12-31|     1|\n",
      "|               5|         1| 2004-01-01|2199-12-31|     1|\n",
      "+----------------+----------+-----------+----------+------+\n",
      "\n"
     ]
    }
   ],
   "source": [
    "aeropuertos = aeropuertos.drop('sigla')\n",
    "aeropuertos = aeropuertos.drop('nombre')\n",
    "aeropuertos = aeropuertos.drop('elevacion')\n",
    "aeropuertos.show()"
   ]
  },
  {
   "cell_type": "markdown",
   "id": "51eb883d",
   "metadata": {},
   "source": [
    "**Cargue inicial de historia aeropuertos**"
   ]
  },
  {
   "cell_type": "code",
   "execution_count": 13,
   "id": "f7dfa61c",
   "metadata": {},
   "outputs": [],
   "source": [
    "# CARGUE\n",
    "guardar_db(dest_db_connection_string, aeropuertos,'Estudiante_11.HechoHistoriaCambios', db_user, db_psswd)"
   ]
  },
  {
   "cell_type": "markdown",
   "id": "e72b0ce4",
   "metadata": {},
   "source": [
    "Como el negocio no ha compartido reporte mensual dejamos el cargue inicial de HechoHistoriaCambios con la información original de la dimensión aeropuertos sin simular cambios en la tabla factless HechoHistoriaCambios."
   ]
  }
 ],
 "metadata": {
  "kernelspec": {
   "display_name": "Python 3 (ipykernel)",
   "language": "python",
   "name": "python3"
  },
  "language_info": {
   "codemirror_mode": {
    "name": "ipython",
    "version": 3
   },
   "file_extension": ".py",
   "mimetype": "text/x-python",
   "name": "python",
   "nbconvert_exporter": "python",
   "pygments_lexer": "ipython3",
   "version": "3.7.13"
  }
 },
 "nbformat": 4,
 "nbformat_minor": 5
}
